{
 "cells": [
  {
   "cell_type": "code",
   "execution_count": 1,
   "metadata": {},
   "outputs": [],
   "source": [
    " #importing libraries\n",
    "import numpy as np\n",
    "import pandas as pd\n",
    "import matplotlib.pyplot as plt\n",
    "import seaborn as sns\n",
    "import mpl_toolkits\n",
    "import datetime as dt\n",
    "import operator\n",
    "from math import sin, cos, sqrt, atan2, radians\n",
    "%matplotlib inline"
   ]
  },
  {
   "cell_type": "code",
   "execution_count": 2,
   "metadata": {
    "scrolled": true
   },
   "outputs": [
    {
     "data": {
      "text/html": [
       "<div>\n",
       "<style scoped>\n",
       "    .dataframe tbody tr th:only-of-type {\n",
       "        vertical-align: middle;\n",
       "    }\n",
       "\n",
       "    .dataframe tbody tr th {\n",
       "        vertical-align: top;\n",
       "    }\n",
       "\n",
       "    .dataframe thead th {\n",
       "        text-align: right;\n",
       "    }\n",
       "</style>\n",
       "<table border=\"1\" class=\"dataframe\">\n",
       "  <thead>\n",
       "    <tr style=\"text-align: right;\">\n",
       "      <th></th>\n",
       "      <th>_ID</th>\n",
       "      <th>TimeSt</th>\n",
       "      <th>Country</th>\n",
       "      <th>Province</th>\n",
       "      <th>City</th>\n",
       "      <th>Latitude</th>\n",
       "      <th>Longitude</th>\n",
       "    </tr>\n",
       "  </thead>\n",
       "  <tbody>\n",
       "    <tr>\n",
       "      <th>0</th>\n",
       "      <td>4516516</td>\n",
       "      <td>2017-06-21 00:00:00.143</td>\n",
       "      <td>CA</td>\n",
       "      <td>ON</td>\n",
       "      <td>Waterloo</td>\n",
       "      <td>43.49347</td>\n",
       "      <td>-80.49123</td>\n",
       "    </tr>\n",
       "    <tr>\n",
       "      <th>1</th>\n",
       "      <td>4516547</td>\n",
       "      <td>2017-06-21 18:00:00.193</td>\n",
       "      <td>CA</td>\n",
       "      <td>ON</td>\n",
       "      <td>London</td>\n",
       "      <td>42.93990</td>\n",
       "      <td>-81.27090</td>\n",
       "    </tr>\n",
       "    <tr>\n",
       "      <th>2</th>\n",
       "      <td>4516550</td>\n",
       "      <td>2017-06-21 15:00:00.287</td>\n",
       "      <td>CA</td>\n",
       "      <td>ON</td>\n",
       "      <td>Guelph</td>\n",
       "      <td>43.57760</td>\n",
       "      <td>-80.22010</td>\n",
       "    </tr>\n",
       "    <tr>\n",
       "      <th>3</th>\n",
       "      <td>4516600</td>\n",
       "      <td>2017-06-21 15:00:00.307</td>\n",
       "      <td>CA</td>\n",
       "      <td>ON</td>\n",
       "      <td>Stratford</td>\n",
       "      <td>43.37160</td>\n",
       "      <td>-80.97730</td>\n",
       "    </tr>\n",
       "    <tr>\n",
       "      <th>4</th>\n",
       "      <td>4516613</td>\n",
       "      <td>2017-06-21 15:00:00.497</td>\n",
       "      <td>CA</td>\n",
       "      <td>ON</td>\n",
       "      <td>Stratford</td>\n",
       "      <td>43.37160</td>\n",
       "      <td>-80.97730</td>\n",
       "    </tr>\n",
       "  </tbody>\n",
       "</table>\n",
       "</div>"
      ],
      "text/plain": [
       "       _ID                   TimeSt Country Province       City  Latitude  \\\n",
       "0  4516516  2017-06-21 00:00:00.143      CA       ON   Waterloo  43.49347   \n",
       "1  4516547  2017-06-21 18:00:00.193      CA       ON     London  42.93990   \n",
       "2  4516550  2017-06-21 15:00:00.287      CA       ON     Guelph  43.57760   \n",
       "3  4516600  2017-06-21 15:00:00.307      CA       ON  Stratford  43.37160   \n",
       "4  4516613  2017-06-21 15:00:00.497      CA       ON  Stratford  43.37160   \n",
       "\n",
       "   Longitude  \n",
       "0  -80.49123  \n",
       "1  -81.27090  \n",
       "2  -80.22010  \n",
       "3  -80.97730  \n",
       "4  -80.97730  "
      ]
     },
     "execution_count": 2,
     "metadata": {},
     "output_type": "execute_result"
    }
   ],
   "source": [
    " #Reading data from csv and print first 5 rows\n",
    "df1 = pd.read_csv(\"../Python/Dataset/Other/Request_Log\")\n",
    "df1.head()"
   ]
  },
  {
   "cell_type": "code",
   "execution_count": 3,
   "metadata": {},
   "outputs": [
    {
     "name": "stdout",
     "output_type": "stream",
     "text": [
      "<class 'pandas.core.frame.DataFrame'>\n",
      "RangeIndex: 22025 entries, 0 to 22024\n",
      "Data columns (total 7 columns):\n",
      "_ID          22025 non-null int64\n",
      " TimeSt      22025 non-null object\n",
      "Country      22025 non-null object\n",
      "Province     22025 non-null object\n",
      "City         22025 non-null object\n",
      "Latitude     22025 non-null float64\n",
      "Longitude    22025 non-null float64\n",
      "dtypes: float64(2), int64(1), object(4)\n",
      "memory usage: 1.2+ MB\n"
     ]
    }
   ],
   "source": [
    " #Dataframe information\n",
    "df1.info()"
   ]
  },
  {
   "cell_type": "code",
   "execution_count": 4,
   "metadata": {
    "scrolled": true
   },
   "outputs": [
    {
     "data": {
      "text/plain": [
       "<function seaborn.utils.despine>"
      ]
     },
     "execution_count": 4,
     "metadata": {},
     "output_type": "execute_result"
    },
    {
     "data": {
      "image/png": "[encoded data removed]",
      "text/plain": [
       "<matplotlib.figure.Figure at 0x7f78e1818250>"
      ]
     },
     "metadata": {},
     "output_type": "display_data"
    }
   ],
   "source": [
    "# Taking a count of the request logs per province\n",
    "df1['Province'].value_counts().plot(kind='bar')\n",
    "plt.title('number of Quest per province')\n",
    "plt.xlabel('Province')\n",
    "plt.ylabel('Count')\n",
    "sns.despine"
   ]
  },
  {
   "cell_type": "code",
   "execution_count": 5,
   "metadata": {},
   "outputs": [],
   "source": [
    " #Taking a count of the top number of request logs per city"
   ]
  },
  {
   "cell_type": "code",
   "execution_count": 6,
   "metadata": {},
   "outputs": [
    {
     "data": {
      "text/plain": [
       "<matplotlib.text.Text at 0x7f78df491550>"
      ]
     },
     "execution_count": 6,
     "metadata": {},
     "output_type": "execute_result"
    },
    {
     "data": {
      "image/png": "[encoded data removed]",
      "text/plain": [
       "<matplotlib.figure.Figure at 0x7f78df4d8b90>"
      ]
     },
     "metadata": {},
     "output_type": "display_data"
    }
   ],
   "source": [
    "\n",
    "unique, counts = np.unique(df1[['City']].values, return_counts=True)\n",
    "unique = np.reshape(unique, (656,1))\n",
    "counts = np.reshape(counts, (656,1))\n",
    "dataset = pd.DataFrame({'City':unique[:,0],'Counts':counts[:,0]})\n",
    "result = dataset.sort_values('Counts', ascending = False)\n",
    "#print(result)\n",
    "result.head()\n",
    "x = [1, 2, 3, 4, 5]\n",
    "y = result.iloc[0:5]['Counts']\n",
    "LABELS = [result.iloc[0]['City'], result.iloc[1]['City'], result.iloc[2]['City'], result.iloc[3]['City'], result.iloc[4]['City']]\n",
    "\n",
    "plt.bar(x, y, align='center')\n",
    "plt.xticks(x, LABELS)\n",
    "plt.xlabel(\"City\")\n",
    "plt.ylabel(\"Counts\")\n",
    "plt.title(\"Quests for top 5 city\")"
   ]
  },
  {
   "cell_type": "code",
   "execution_count": 7,
   "metadata": {},
   "outputs": [
    {
     "data": {
      "text/html": [
       "<div>\n",
       "<style scoped>\n",
       "    .dataframe tbody tr th:only-of-type {\n",
       "        vertical-align: middle;\n",
       "    }\n",
       "\n",
       "    .dataframe tbody tr th {\n",
       "        vertical-align: top;\n",
       "    }\n",
       "\n",
       "    .dataframe thead th {\n",
       "        text-align: right;\n",
       "    }\n",
       "</style>\n",
       "<table border=\"1\" class=\"dataframe\">\n",
       "  <thead>\n",
       "    <tr style=\"text-align: right;\">\n",
       "      <th></th>\n",
       "      <th>City</th>\n",
       "      <th>Counts</th>\n",
       "    </tr>\n",
       "  </thead>\n",
       "  <tbody>\n",
       "    <tr>\n",
       "      <th>80</th>\n",
       "      <td>Calgary</td>\n",
       "      <td>3979</td>\n",
       "    </tr>\n",
       "    <tr>\n",
       "      <th>164</th>\n",
       "      <td>Edmonton</td>\n",
       "      <td>2549</td>\n",
       "    </tr>\n",
       "    <tr>\n",
       "      <th>577</th>\n",
       "      <td>Toronto</td>\n",
       "      <td>1859</td>\n",
       "    </tr>\n",
       "    <tr>\n",
       "      <th>330</th>\n",
       "      <td>Mississauga</td>\n",
       "      <td>777</td>\n",
       "    </tr>\n",
       "    <tr>\n",
       "      <th>500</th>\n",
       "      <td>Saskatoon</td>\n",
       "      <td>616</td>\n",
       "    </tr>\n",
       "  </tbody>\n",
       "</table>\n",
       "</div>"
      ],
      "text/plain": [
       "            City  Counts\n",
       "80       Calgary    3979\n",
       "164     Edmonton    2549\n",
       "577      Toronto    1859\n",
       "330  Mississauga     777\n",
       "500    Saskatoon     616"
      ]
     },
     "execution_count": 7,
     "metadata": {},
     "output_type": "execute_result"
    }
   ],
   "source": [
    " #Top five cities of request logs\n",
    "result.head()"
   ]
  },
  {
   "cell_type": "code",
   "execution_count": 8,
   "metadata": {},
   "outputs": [
    {
     "data": {
      "text/plain": [
       "656"
      ]
     },
     "execution_count": 8,
     "metadata": {},
     "output_type": "execute_result"
    }
   ],
   "source": [
    " #Unique cities and count of request logs of each city\n",
    "unique, count = np.unique(df1[['City']].values, return_counts=True)\n",
    "len(unique)"
   ]
  },
  {
   "cell_type": "code",
   "execution_count": 9,
   "metadata": {},
   "outputs": [
    {
     "data": {
      "text/plain": [
       "array(['108 Mile Ranch', 'Abbotsford', 'Aberdeen', 'Acme', 'Acton',\n",
       "       'Airdrie', 'Ajax', 'Alberta Beach', 'Aldergrove', 'Alix',\n",
       "       'Alliston', 'Alma', 'Almonte', 'Amos', 'Ancaster', 'Angus',\n",
       "       'Anjou', 'Anmore', 'Antigonish', 'Ardrossan', 'Armdale',\n",
       "       'Armstrong', 'Arnprior', 'Artemesia', 'Asquith', 'Assiniboia',\n",
       "       'Atikokan', 'Atwood', 'Aulac', 'Aurora', 'Aylmer', 'Banff',\n",
       "       'Barrhead', 'Barrie', 'Bashaw', 'Bay Roberts', 'Beaudry',\n",
       "       'Beauharnois', 'Beaumont', 'Beauport', 'Beausejour', 'Beechville',\n",
       "       'Belleisle Creek', 'Belleville', 'Beloeil', 'Bewdley',\n",
       "       'Big Valley', 'Birsay', 'Bishopton', 'Blackfalds', 'Blainville',\n",
       "       'Boisbriand', 'Bolton', 'Bonanza', 'Bonaventure', 'Bonavista',\n",
       "       'Bonnyville', 'Botha', 'Boucherville', 'Boutiliers Point',\n",
       "       'Bowmanville', 'Bracebridge', 'Bradford',\n",
       "       'Bradford West Gwillimbury', 'Brampton', 'Brandon', 'Brantford',\n",
       "       'Bridesville', 'Brockville', 'Brome', 'Brooks', 'Brossard',\n",
       "       'Bruno', 'Buckingham', 'Buena Vista', 'Burlington', 'Burnaby',\n",
       "       'Calabogie', 'Caledon', 'Caledonia', 'Calgary', 'Cambridge',\n",
       "       'Cambridge Station', 'Campbell River', 'Camrose', 'Cando',\n",
       "       'Canmore', 'Canora', 'Cap-De-La-Madeleine', 'Cape Breton',\n",
       "       'Carberry', 'Carbonear', 'Cayley', 'Chambly', 'Charlemagne',\n",
       "       'Charlesbourg', 'Charlton Station', 'Charny', 'Chatham', 'Chelsea',\n",
       "       'Chestermere', 'Chibougamau', 'Chicoutimi', 'Chilliwack',\n",
       "       'Ch\\xc3\\xa2teauguay', 'Claresholm', 'Clifford', 'Clive',\n",
       "       'Coaldale', 'Cobalt', 'Cobourg', 'Cochrane', 'Colchester',\n",
       "       'Cold Lake', 'Coldstream', 'Cole Harbour', 'Coleman',\n",
       "       'Collingwood', 'Colpitts Settlement', 'Comox', 'Concord',\n",
       "       'Coquitlam', 'Corner Brook', 'Cornwall', 'Coronach', 'Coronation',\n",
       "       'Cottam', 'Courtenay', 'Courtice', 'Cowley', 'Craik',\n",
       "       'Cranberry Portage', 'Crossfield', 'Cumberland',\n",
       "       'Cypress Hills Park', 'C\\xc3\\xb4te-Saint-Luc', 'Dartmouth',\n",
       "       'Davidson', 'Dawson Creek', 'Deer Lake', 'Delisle', 'Delson',\n",
       "       'Delta', 'Derwent', 'Deux-Montagnes', 'Didsbury', 'Dieppe',\n",
       "       'Dollard-Des-Ormeaux', 'Dorval', 'Douro-Dummer', 'Downsview',\n",
       "       'Drayton Valley', 'Drumheller', 'Drummondville', 'Dryden',\n",
       "       'Duchess', 'Duck Lake', 'Duffield', 'Duncan', 'Dundas',\n",
       "       'East Kildonan', 'East Riverside-Kinghurst', 'East York',\n",
       "       'Eckville', 'Edmonton', 'Edson', 'Eel Ground', 'Elliot Lake',\n",
       "       'Elmsdale', 'Espanola', 'Essex', 'Estevan', 'Etobicoke', 'Farnham',\n",
       "       'Fernie', 'Ferrier', 'Fleurimont', 'Flin Flon (Part)',\n",
       "       'Forestburg', 'Fort Erie', 'Fort Frances', 'Fort Mackay',\n",
       "       'Fort Macleod', 'Fort Mcmurray', 'Fort Saint John',\n",
       "       'Fort Saskatchewan', 'Fort St John', 'Fossambault-Sur-Le-Lac',\n",
       "       'Fox Creek', 'Frankford', 'Fredericton', 'Gananoque', 'Gander',\n",
       "       'Garden River', 'Gatineau', 'Georgetown', 'Geraldton', 'Gillam',\n",
       "       'Glace Bay', 'Gloucester', 'Goderich', 'Golden', 'Golden Lake',\n",
       "       'Granby', 'Grand Falls-Windsor', 'Grande Cache', 'Grande Prairie',\n",
       "       'Granton', 'Gravenhurst', 'Greenfield Park', 'Grimsby', 'Grunthal',\n",
       "       'Guelph', 'Gull Lake', 'Halifax', 'Hammonds Plains', 'Hampstead',\n",
       "       'Hampton', 'Hanmer', 'Hanover', 'Harcourt', 'Harrison Hot Springs',\n",
       "       'Hartell', 'Hawkesbury', 'Hay River', 'Hearst', 'High Level',\n",
       "       'High Prairie', 'High River', 'Hornepayne', 'Hudson', 'Humboldt',\n",
       "       'Huntsville', 'Huron Park', 'Improvement District', 'Ingersoll',\n",
       "       'Innisfail', 'Innisfil', 'Invermere', 'Irishtown', 'Irlande',\n",
       "       'Iroquois Falls', 'Irvine', 'Ituna', 'Jacksonville', 'Jasper',\n",
       "       'Joliette', 'Jonqui\\xc3\\xa8re', 'Kamloops', 'Kamsack', 'Kanata',\n",
       "       'Kaslo', 'Kelowna', 'Kenora', 'Kentville', 'Keswick', 'Kiamika',\n",
       "       'Kikino', 'Kings', 'Kingston', 'Kingsville-Cottam', 'Kinistino',\n",
       "       'Kinnear Settlement', 'Kipling', 'Kirkland', 'Kirkland Lake',\n",
       "       'Kitchener', 'Kneehill', \"L'Ancienne-Lorette\",\n",
       "       'La Malbaie-Pointe-Au-Pic', 'La Tuque', 'Lachine', 'Lacombe',\n",
       "       'Ladysmith', 'Laird', 'Lake Lenore', 'Lake Louise',\n",
       "       'Lakeville-Westmorland', 'Lamarche', 'Langley', 'Lasalle',\n",
       "       'Latchford', 'Laterri\\xc3\\xa8re', 'Laval', 'Lavaltrie', 'Lazo',\n",
       "       'Leamington', 'Leask', 'Leduc', 'Lennoxville', 'Lethbridge',\n",
       "       'Levis', 'Lindell Beach', 'Lindsay', 'Lloydminster',\n",
       "       'Lloydminster (Part)', 'London', 'Longueuil', 'Lorraine',\n",
       "       'Lower Sackville', 'L\\xc3\\xa9vis', 'Macdougall Settlement',\n",
       "       'Mackenzie', 'Macrorie', 'Madeira Park', 'Magog', 'Maitland',\n",
       "       'Maple', 'Maple Ridge', 'Markham', 'Maryfield', 'Matane',\n",
       "       'Meadow Creek', 'Meadow Lake', 'Meaford', 'Medicine Hat',\n",
       "       'Melfort', 'Melville', 'Merritt', 'Middle Sackville', 'Midland',\n",
       "       'Mildmay', 'Mill Bay', 'Millet', 'Milton', 'Minden', 'Minnitaki',\n",
       "       'Minto', 'Mirabel', 'Mission', 'Mississauga', 'Moncton',\n",
       "       'Mont Laurier', 'Mont-Royal', 'Montreal', 'Montr\\xc3\\xa9al',\n",
       "       'Montr\\xc3\\xa9al-Nord', 'Moose Jaw', 'Morden', 'Morinville',\n",
       "       'Morley', 'Morrin', 'Morris', 'Morse', 'Mount Pearl', 'Mundare',\n",
       "       'Nanaimo', 'Nanoose Bay', 'Napierville', 'Nasonworth', 'Neepawa',\n",
       "       'Nepean', 'Neville', 'Nevis', 'New Tecumseth', 'New Waterford',\n",
       "       'New Westminster', 'Newmarket', 'Niagara Falls',\n",
       "       'Niagara-On-The-Lake', 'Nicolet', 'Nipigon', 'Nipissing Junction',\n",
       "       'Nobleton', 'Nordegg', 'Norquay', 'North Battleford', 'North Bay',\n",
       "       'North Cowichan', 'North Saanich', 'North Sydney',\n",
       "       'North Vancouver', 'North York', 'Nose Creek', 'Oakville',\n",
       "       'Okotoks', 'Olds', 'Onoway', 'Orangeville', 'Orillia',\n",
       "       'Orl\\xc3\\xa9ans', 'Oromocto', 'Oshawa', 'Osoyoos', 'Ottawa',\n",
       "       'Outremont', 'Owen Sound', 'Oxford Junction', 'Paradise',\n",
       "       'Parkland', 'Parksville', 'Parry Sound', 'Patuanak', 'Peace River',\n",
       "       'Pelly Crossing', 'Pembroke', 'Penticton', 'Perrault Falls',\n",
       "       'Perth', 'Petawawa', 'Peterborough', 'Petrolia', 'Pickering',\n",
       "       'Pierrefonds', 'Pikangikum', 'Pike River', 'Pincher Creek',\n",
       "       'Plateau-Mont-Royal', 'Point Edward', 'Pointe-Claire',\n",
       "       'Pointe-Lebel', 'Pollockville', 'Ponoka', 'Poplar Hill',\n",
       "       'Port Alberni', 'Port Alice', 'Port Colborne', 'Port Coquitlam',\n",
       "       'Port Elgin', 'Port Hope', 'Port Moody', 'Port Perry',\n",
       "       'Port Stanley', 'Portage La Prairie', 'Portland', 'Powassan',\n",
       "       'Powell River', 'Prince Albert', 'Prince George', 'Prince Rupert',\n",
       "       'Princeton', 'Pte Aux Trembles', 'Qualicum Beach', 'Quebec',\n",
       "       'Quesnel', 'Quispamsis', 'Qu\\xc3\\xa9bec', 'Radville', 'Rd',\n",
       "       'Red Deer', 'Red Deer County', 'Red Lake', 'Redwood Meadows',\n",
       "       'Regina', 'Renfrew', 'Repentigny', 'Richmond', 'Richmond Hill',\n",
       "       'Rimbey', 'Rimouski', 'Riverview', 'Roberts Creek', 'Rochon Sands',\n",
       "       'Rocky Mountain House', 'Rocky View', 'Rockyford', 'Rosemere',\n",
       "       'Rosemont', 'Rosem\\xc3\\xa8re', 'Rothesay', 'Rouyn-Noranda',\n",
       "       'Saanich', 'Saanichton', 'Saint Albert', 'Saint Catharines',\n",
       "       'Saint John', 'Saint L\\xc3\\xa9onard', 'Saint Thomas',\n",
       "       'Saint-Antoine-De-Lavaltrie', 'Saint-Bruno', 'Saint-Constant',\n",
       "       'Saint-Eustache', 'Saint-Georges', 'Saint-Hubert',\n",
       "       'Saint-Hyacinthe', 'Saint-Jean-De-Matha',\n",
       "       'Saint-Jean-Sur-Richelieu', 'Saint-Jerome',\n",
       "       'Saint-J\\xc3\\xa9r\\xc3\\xb4me', 'Saint-Lambert', 'Saint-Laurent',\n",
       "       'Saint-Leonard', 'Saint-Louis-De-Kent', 'Saint-L\\xc3\\xa9onard',\n",
       "       'Saint-Neree', 'Saint-Nicolas', 'Saint-Romuald',\n",
       "       'Saint-\\xc3\\x89tienne-De-Lauzon', 'Sainte Genevieve',\n",
       "       'Sainte-Ad\\xc3\\xa8le', 'Sainte-Anne-De-Bellevue', 'Sainte-Foy',\n",
       "       'Sainte-Julie', 'Sainte-Sophie', 'Sainte-Th\\xc3\\xa9r\\xc3\\xa8se',\n",
       "       'Salaberry-De-Valleyfield', 'Salmon Arm', 'Sandwich South',\n",
       "       'Sandy Lake', 'Sarnia', 'Saskatoon', 'Sault Sainte Marie',\n",
       "       'Sault Ste Marie', 'Scarborough', 'Scarth', 'Sechelt',\n",
       "       'Seymour Arm', 'Shackleton', 'Shawinigan', 'Shediac', 'Shelburne',\n",
       "       'Shellbrook', 'Sherbrooke', 'Sherwood Park', 'Sidney', 'Sillery',\n",
       "       'Simpson', 'Sioux Lookout', 'Smith', 'Smithville', 'Smoky Lake',\n",
       "       'South Porcupine', 'Sparwood', 'Spirit River', 'Springbrook',\n",
       "       'Spruce Grove', 'Squamish', 'St Albert', 'St Catharines',\n",
       "       'St Paul', 'St Thomas', 'St Walburg', 'St-Gabriel-De-Kamouraska',\n",
       "       'St. John', \"St. John's\", 'St.-Catharines', 'St.-Hyacinthe',\n",
       "       'Stand Off', 'Ste.-Anne-De-Bellevue', 'Steinbach', 'Stettler',\n",
       "       'Stirling', 'Stittsville', 'Stoneham', 'Stonewall', 'Stony Plain',\n",
       "       'Stouffville', 'Stratford', 'Strathcona', 'Strathcona County',\n",
       "       'Strathmore', 'Sturgeon', 'Sturgeon County', 'Sturgeon Falls',\n",
       "       'Sudbury', 'Summerland', 'Sunbreaker Cove', 'Surrey',\n",
       "       'Swift Current', 'Sydney', 'Sydney Mines', 'Sylvan Lake', 'Taber',\n",
       "       'Taylor', 'Tecumseh', 'Terrace', 'Terrace Bay', 'The Pas',\n",
       "       'Thompson', 'Thornhill', 'Thorold', 'Thorsby', 'Three Hills',\n",
       "       'Thunder Bay', 'Tillsonburg', 'Timmins', 'Torbay', 'Toronto',\n",
       "       'Trenton', 'Trois-Rivieres', 'Trois-Rivi\\xc3\\xa8res',\n",
       "       'Trois-Rivi\\xc3\\xa8res-Ouest', 'Truro', 'Tsawwassen', 'Unionville',\n",
       "       'University Endowment Area', 'Upper Kingsclear', 'Upper Sackville',\n",
       "       'Upper Tantallon', 'Uxbridge', 'Valley River', 'Vancouver',\n",
       "       'Vanderhoof', 'Vanier', 'Vankleek Hill', 'Varennes',\n",
       "       'Vaudreuil-Dorion', 'Vaughan', 'Vauxhall', 'Vegreville', 'Verdun',\n",
       "       'Vermilion', 'Vernon', 'Victoria', 'Victoriaville', 'Viking',\n",
       "       'Virden', 'Viscount', 'Vulcan', 'W Vancouver', 'Wabamun',\n",
       "       'Wabasca', 'Wainwright', 'Walkerton', 'Warman', 'Wasaga Beach',\n",
       "       'Washabuck Centre', 'Waterloo', 'Watrous', 'Wawanesa', 'Welland',\n",
       "       'Wellesley', 'West Vancouver', 'Westchester Station', 'Westlock',\n",
       "       'Westmount', 'Weston', 'Wetaskiwin', 'Weyburn', 'Weymouth',\n",
       "       'Wheatland', 'Whitby', 'Whitchurch-Stouffville', 'White Rock',\n",
       "       'Whitecourt', 'Whitefish Falls', 'Whitehorse', 'Wiarton',\n",
       "       'Williams Lake', 'Willow Bunch', 'Windsor', 'Winfield', 'Wingham',\n",
       "       'Winnipeg', 'Wolfville', 'Wood Buffalo', 'Woodbridge', 'Woodfords',\n",
       "       'Woodstock', 'Woolwich', 'Wrentham', 'Yarmouth', 'Yellowknife',\n",
       "       'York', 'Yorkton', 'Zhoda'], dtype=object)"
      ]
     },
     "execution_count": 9,
     "metadata": {},
     "output_type": "execute_result"
    }
   ],
   "source": [
    "unique"
   ]
  },
  {
   "cell_type": "code",
   "execution_count": 10,
   "metadata": {},
   "outputs": [],
   "source": [
    " #Removing fake request logs"
   ]
  },
  {
   "cell_type": "code",
   "execution_count": 11,
   "metadata": {
    "scrolled": true
   },
   "outputs": [
    {
     "name": "stderr",
     "output_type": "stream",
     "text": [
      "/home/jobin/anaconda2/lib/python2.7/site-packages/ipykernel_launcher.py:7: SettingWithCopyWarning: \n",
      "A value is trying to be set on a copy of a slice from a DataFrame.\n",
      "Try using .loc[row_indexer,col_indexer] = value instead\n",
      "\n",
      "See the caveats in the documentation: http://pandas.pydata.org/pandas-docs/stable/indexing.html#indexing-view-versus-copy\n",
      "  import sys\n",
      "/home/jobin/anaconda2/lib/python2.7/site-packages/ipykernel_launcher.py:8: SettingWithCopyWarning: \n",
      "A value is trying to be set on a copy of a slice from a DataFrame.\n",
      "Try using .loc[row_indexer,col_indexer] = value instead\n",
      "\n",
      "See the caveats in the documentation: http://pandas.pydata.org/pandas-docs/stable/indexing.html#indexing-view-versus-copy\n",
      "  \n"
     ]
    },
    {
     "data": {
      "text/html": [
       "<div>\n",
       "<style scoped>\n",
       "    .dataframe tbody tr th:only-of-type {\n",
       "        vertical-align: middle;\n",
       "    }\n",
       "\n",
       "    .dataframe tbody tr th {\n",
       "        vertical-align: top;\n",
       "    }\n",
       "\n",
       "    .dataframe thead th {\n",
       "        text-align: right;\n",
       "    }\n",
       "</style>\n",
       "<table border=\"1\" class=\"dataframe\">\n",
       "  <thead>\n",
       "    <tr style=\"text-align: right;\">\n",
       "      <th></th>\n",
       "      <th>_ID</th>\n",
       "      <th>TimeSt</th>\n",
       "      <th>Country</th>\n",
       "      <th>Province</th>\n",
       "      <th>City</th>\n",
       "      <th>Latitude</th>\n",
       "      <th>Longitude</th>\n",
       "    </tr>\n",
       "  </thead>\n",
       "  <tbody>\n",
       "    <tr>\n",
       "      <th>2122</th>\n",
       "      <td>4622917</td>\n",
       "      <td>2017 June 21 14 05</td>\n",
       "      <td>CA</td>\n",
       "      <td>BC</td>\n",
       "      <td>108 Mile Ranch</td>\n",
       "      <td>51.73946</td>\n",
       "      <td>-121.33774</td>\n",
       "    </tr>\n",
       "    <tr>\n",
       "      <th>4662</th>\n",
       "      <td>4750034</td>\n",
       "      <td>2017 June 21 02 15</td>\n",
       "      <td>CA</td>\n",
       "      <td>BC</td>\n",
       "      <td>108 Mile Ranch</td>\n",
       "      <td>51.73951</td>\n",
       "      <td>-121.33796</td>\n",
       "    </tr>\n",
       "    <tr>\n",
       "      <th>6114</th>\n",
       "      <td>4822399</td>\n",
       "      <td>2017 June 21 07 20</td>\n",
       "      <td>CA</td>\n",
       "      <td>BC</td>\n",
       "      <td>108 Mile Ranch</td>\n",
       "      <td>51.73948</td>\n",
       "      <td>-121.33789</td>\n",
       "    </tr>\n",
       "    <tr>\n",
       "      <th>3699</th>\n",
       "      <td>4700905</td>\n",
       "      <td>2017 June 21 13 11</td>\n",
       "      <td>CA</td>\n",
       "      <td>BC</td>\n",
       "      <td>Abbotsford</td>\n",
       "      <td>49.05022</td>\n",
       "      <td>-122.32839</td>\n",
       "    </tr>\n",
       "    <tr>\n",
       "      <th>4470</th>\n",
       "      <td>4740530</td>\n",
       "      <td>2017 June 21 12 14</td>\n",
       "      <td>CA</td>\n",
       "      <td>BC</td>\n",
       "      <td>Abbotsford</td>\n",
       "      <td>49.06945</td>\n",
       "      <td>-122.30482</td>\n",
       "    </tr>\n",
       "  </tbody>\n",
       "</table>\n",
       "</div>"
      ],
      "text/plain": [
       "          _ID              TimeSt Country Province            City  Latitude  \\\n",
       "2122  4622917  2017 June 21 14 05      CA       BC  108 Mile Ranch  51.73946   \n",
       "4662  4750034  2017 June 21 02 15      CA       BC  108 Mile Ranch  51.73951   \n",
       "6114  4822399  2017 June 21 07 20      CA       BC  108 Mile Ranch  51.73948   \n",
       "3699  4700905  2017 June 21 13 11      CA       BC      Abbotsford  49.05022   \n",
       "4470  4740530  2017 June 21 12 14      CA       BC      Abbotsford  49.06945   \n",
       "\n",
       "      Longitude  \n",
       "2122 -121.33774  \n",
       "4662 -121.33796  \n",
       "6114 -121.33789  \n",
       "3699 -122.32839  \n",
       "4470 -122.30482  "
      ]
     },
     "execution_count": 11,
     "metadata": {},
     "output_type": "execute_result"
    }
   ],
   "source": [
    "df3 = pd.DataFrame(columns=['_ID',' TimeSt','Country','Province','City','Latitude','Longitude'])\n",
    "\n",
    "for i in range(len(unique)):\n",
    "    fruits = unique[i]\n",
    "    x=fruits\n",
    "    df2 = df1.loc[df1['City'] ==str(x)]\n",
    "    df2[' TimeSt'] = pd.to_datetime(df2[' TimeSt'])\n",
    "    df2[' TimeSt'] = df2[' TimeSt'].values.astype('<M8[m]')\n",
    "    df2 = df2.sort_values(by='_ID').drop_duplicates(' TimeSt')\n",
    "    df2[' TimeSt'] = df2[' TimeSt'].dt.strftime('%Y %B %d %H %M')\n",
    "\n",
    "    if x == '108 Mile Ranch':\n",
    "        df3=df2\n",
    "    else:\n",
    "        df3=df3.append(df2)\n",
    "df3.head()"
   ]
  },
  {
   "cell_type": "code",
   "execution_count": 12,
   "metadata": {},
   "outputs": [
    {
     "data": {
      "text/plain": [
       "<function seaborn.utils.despine>"
      ]
     },
     "execution_count": 12,
     "metadata": {},
     "output_type": "execute_result"
    },
    {
     "data": {
      "image/png": "[encoded data removed]",
      "text/plain": [
       "<matplotlib.figure.Figure at 0x7f78e1685c50>"
      ]
     },
     "metadata": {},
     "output_type": "display_data"
    }
   ],
   "source": [
    "# Taking a count of the request logs per province after removing fake request\n",
    "b = df3['Province'].value_counts()\n",
    "plot2 = b.plot(kind='bar')\n",
    "plt.title('number of Quest per province')\n",
    "plt.xlabel('Province')\n",
    "plt.ylabel('Count')\n",
    "sns.despine"
   ]
  },
  {
   "cell_type": "code",
   "execution_count": 13,
   "metadata": {},
   "outputs": [],
   "source": [
    "#City wise fake request drop"
   ]
  },
  {
   "cell_type": "code",
   "execution_count": 14,
   "metadata": {},
   "outputs": [
    {
     "data": {
      "text/plain": [
       "<matplotlib.text.Text at 0x7f78df1be290>"
      ]
     },
     "execution_count": 14,
     "metadata": {},
     "output_type": "execute_result"
    },
    {
     "data": {
      "image/png": "[encoded data removed]",
      "text/plain": [
       "<matplotlib.figure.Figure at 0x7f78df4d8c10>"
      ]
     },
     "metadata": {},
     "output_type": "display_data"
    }
   ],
   "source": [
    "unique, counts = np.unique(df3[['City']].values, return_counts=True)\n",
    "unique = np.reshape(unique, (656,1))\n",
    "counts = np.reshape(counts, (656,1))\n",
    "dataset = pd.DataFrame({'City':unique[:,0],'Counts':counts[:,0]})\n",
    "result = dataset.sort_values('Counts', ascending = False)\n",
    "#print(result)\n",
    "result.head()\n",
    "x = [1, 2, 3, 4, 5]\n",
    "y = result.iloc[0:5]['Counts']\n",
    "LABELS = [result.iloc[0]['City'], result.iloc[1]['City'], result.iloc[2]['City'], result.iloc[3]['City'], result.iloc[4]['City']]\n",
    "\n",
    "plt.bar(x, y, align='center')\n",
    "plt.xticks(x, LABELS)\n",
    "plt.xlabel(\"City\")\n",
    "plt.ylabel(\"Counts\")\n",
    "plt.title(\"Quests for top 5 city\")"
   ]
  },
  {
   "cell_type": "code",
   "execution_count": 15,
   "metadata": {},
   "outputs": [
    {
     "data": {
      "text/html": [
       "<div>\n",
       "<style scoped>\n",
       "    .dataframe tbody tr th:only-of-type {\n",
       "        vertical-align: middle;\n",
       "    }\n",
       "\n",
       "    .dataframe tbody tr th {\n",
       "        vertical-align: top;\n",
       "    }\n",
       "\n",
       "    .dataframe thead th {\n",
       "        text-align: right;\n",
       "    }\n",
       "</style>\n",
       "<table border=\"1\" class=\"dataframe\">\n",
       "  <thead>\n",
       "    <tr style=\"text-align: right;\">\n",
       "      <th></th>\n",
       "      <th>City</th>\n",
       "      <th>Counts</th>\n",
       "    </tr>\n",
       "  </thead>\n",
       "  <tbody>\n",
       "    <tr>\n",
       "      <th>80</th>\n",
       "      <td>Calgary</td>\n",
       "      <td>1227</td>\n",
       "    </tr>\n",
       "    <tr>\n",
       "      <th>164</th>\n",
       "      <td>Edmonton</td>\n",
       "      <td>1084</td>\n",
       "    </tr>\n",
       "    <tr>\n",
       "      <th>577</th>\n",
       "      <td>Toronto</td>\n",
       "      <td>914</td>\n",
       "    </tr>\n",
       "    <tr>\n",
       "      <th>330</th>\n",
       "      <td>Mississauga</td>\n",
       "      <td>531</td>\n",
       "    </tr>\n",
       "    <tr>\n",
       "      <th>500</th>\n",
       "      <td>Saskatoon</td>\n",
       "      <td>458</td>\n",
       "    </tr>\n",
       "  </tbody>\n",
       "</table>\n",
       "</div>"
      ],
      "text/plain": [
       "            City  Counts\n",
       "80       Calgary    1227\n",
       "164     Edmonton    1084\n",
       "577      Toronto     914\n",
       "330  Mississauga     531\n",
       "500    Saskatoon     458"
      ]
     },
     "execution_count": 15,
     "metadata": {},
     "output_type": "execute_result"
    }
   ],
   "source": [
    " #Top five cities of request logs\n",
    "result.head()"
   ]
  },
  {
   "cell_type": "code",
   "execution_count": 16,
   "metadata": {},
   "outputs": [],
   "source": [
    " #Generate POI list"
   ]
  },
  {
   "cell_type": "code",
   "execution_count": 17,
   "metadata": {},
   "outputs": [
    {
     "data": {
      "text/html": [
       "<div>\n",
       "<style scoped>\n",
       "    .dataframe tbody tr th:only-of-type {\n",
       "        vertical-align: middle;\n",
       "    }\n",
       "\n",
       "    .dataframe tbody tr th {\n",
       "        vertical-align: top;\n",
       "    }\n",
       "\n",
       "    .dataframe thead th {\n",
       "        text-align: right;\n",
       "    }\n",
       "</style>\n",
       "<table border=\"1\" class=\"dataframe\">\n",
       "  <thead>\n",
       "    <tr style=\"text-align: right;\">\n",
       "      <th></th>\n",
       "      <th>Latitude</th>\n",
       "      <th>Longitude</th>\n",
       "      <th>POIID</th>\n",
       "    </tr>\n",
       "  </thead>\n",
       "  <tbody>\n",
       "    <tr>\n",
       "      <th>0</th>\n",
       "      <td>53.546167</td>\n",
       "      <td>-113.485734</td>\n",
       "      <td>PO1</td>\n",
       "    </tr>\n",
       "    <tr>\n",
       "      <th>1</th>\n",
       "      <td>53.546167</td>\n",
       "      <td>-113.485734</td>\n",
       "      <td>PO2</td>\n",
       "    </tr>\n",
       "    <tr>\n",
       "      <th>2</th>\n",
       "      <td>45.521629</td>\n",
       "      <td>-73.566024</td>\n",
       "      <td>PO3</td>\n",
       "    </tr>\n",
       "    <tr>\n",
       "      <th>3</th>\n",
       "      <td>45.224830</td>\n",
       "      <td>-63.232729</td>\n",
       "      <td>PO4</td>\n",
       "    </tr>\n",
       "  </tbody>\n",
       "</table>\n",
       "</div>"
      ],
      "text/plain": [
       "    Latitude    Longitude POIID\n",
       "0  53.546167  -113.485734   PO1\n",
       "1  53.546167  -113.485734   PO2\n",
       "2  45.521629   -73.566024   PO3\n",
       "3  45.224830   -63.232729   PO4"
      ]
     },
     "execution_count": 17,
     "metadata": {},
     "output_type": "execute_result"
    }
   ],
   "source": [
    "df4 = pd.DataFrame({'POIID':['PO1', 'PO2', 'PO3', 'PO4'], 'Latitude':['53.546167', '53.546167', '45.521629', '45.224830'], 'Longitude':['-113.485734', '-113.485734', '-73.566024', '-63.232729'] })\n",
    "df4.head()"
   ]
  },
  {
   "cell_type": "code",
   "execution_count": 18,
   "metadata": {},
   "outputs": [],
   "source": [
    " #Calculate the distance between various POI and requests\n",
    "dist=[]\n",
    "R = 6373.0  #approx. radius of earth\n",
    "for i,j in zip(range(len(df4['Latitude'])), range(len(df4['Longitude']))):\n",
    "    for k,l in zip(range(len(df1['Latitude'])), range(len(df1['Longitude']))):\n",
    "        lat1 = radians(float(df4['Latitude'][i]))\n",
    "        lat2 = radians(float(df1['Latitude'][k]))\n",
    "        lon1 = radians(float(df4['Longitude'][j]))\n",
    "        lon2 = radians(float(df1['Longitude'][l]))\n",
    "        dlon = lon2 - lon1\n",
    "        dlat = lat2 - lat1\n",
    "        a = (sin(dlat/2))**2 + cos(lat1) * cos(lat2) * (sin(dlon/2))**2\n",
    "        c = 2 * atan2(sqrt(a), sqrt(1-a))\n",
    "        dist.append(R * c)\n"
   ]
  },
  {
   "cell_type": "code",
   "execution_count": 19,
   "metadata": {},
   "outputs": [
    {
     "data": {
      "text/html": [
       "<div>\n",
       "<style scoped>\n",
       "    .dataframe tbody tr th:only-of-type {\n",
       "        vertical-align: middle;\n",
       "    }\n",
       "\n",
       "    .dataframe tbody tr th {\n",
       "        vertical-align: top;\n",
       "    }\n",
       "\n",
       "    .dataframe thead th {\n",
       "        text-align: right;\n",
       "    }\n",
       "</style>\n",
       "<table border=\"1\" class=\"dataframe\">\n",
       "  <thead>\n",
       "    <tr style=\"text-align: right;\">\n",
       "      <th></th>\n",
       "      <th>PO1</th>\n",
       "      <th>PO2</th>\n",
       "      <th>PO3</th>\n",
       "      <th>PO4</th>\n",
       "    </tr>\n",
       "  </thead>\n",
       "  <tbody>\n",
       "    <tr>\n",
       "      <th>0</th>\n",
       "      <td>2644.582501</td>\n",
       "      <td>2644.582501</td>\n",
       "      <td>593.599727</td>\n",
       "      <td>1383.224452</td>\n",
       "    </tr>\n",
       "    <tr>\n",
       "      <th>1</th>\n",
       "      <td>2631.542051</td>\n",
       "      <td>2631.542051</td>\n",
       "      <td>677.522278</td>\n",
       "      <td>1460.293945</td>\n",
       "    </tr>\n",
       "    <tr>\n",
       "      <th>2</th>\n",
       "      <td>2656.587930</td>\n",
       "      <td>2656.587930</td>\n",
       "      <td>569.826563</td>\n",
       "      <td>1359.759836</td>\n",
       "    </tr>\n",
       "    <tr>\n",
       "      <th>3</th>\n",
       "      <td>2621.269782</td>\n",
       "      <td>2621.269782</td>\n",
       "      <td>634.933253</td>\n",
       "      <td>1424.612908</td>\n",
       "    </tr>\n",
       "    <tr>\n",
       "      <th>4</th>\n",
       "      <td>2621.269782</td>\n",
       "      <td>2621.269782</td>\n",
       "      <td>634.933253</td>\n",
       "      <td>1424.612908</td>\n",
       "    </tr>\n",
       "  </tbody>\n",
       "</table>\n",
       "</div>"
      ],
      "text/plain": [
       "           PO1          PO2         PO3          PO4\n",
       "0  2644.582501  2644.582501  593.599727  1383.224452\n",
       "1  2631.542051  2631.542051  677.522278  1460.293945\n",
       "2  2656.587930  2656.587930  569.826563  1359.759836\n",
       "3  2621.269782  2621.269782  634.933253  1424.612908\n",
       "4  2621.269782  2621.269782  634.933253  1424.612908"
      ]
     },
     "execution_count": 19,
     "metadata": {},
     "output_type": "execute_result"
    }
   ],
   "source": [
    " #Convert the list into table\n",
    "    \n",
    "df5 = pd.DataFrame(np.array(dist).reshape((22025,4), order='F'), columns = ['PO1','PO2','PO3', 'PO4'])\n",
    "df5.head()"
   ]
  },
  {
   "cell_type": "code",
   "execution_count": 20,
   "metadata": {
    "scrolled": true
   },
   "outputs": [
    {
     "data": {
      "text/html": [
       "<div>\n",
       "<style scoped>\n",
       "    .dataframe tbody tr th:only-of-type {\n",
       "        vertical-align: middle;\n",
       "    }\n",
       "\n",
       "    .dataframe tbody tr th {\n",
       "        vertical-align: top;\n",
       "    }\n",
       "\n",
       "    .dataframe thead th {\n",
       "        text-align: right;\n",
       "    }\n",
       "</style>\n",
       "<table border=\"1\" class=\"dataframe\">\n",
       "  <thead>\n",
       "    <tr style=\"text-align: right;\">\n",
       "      <th></th>\n",
       "      <th>_ID</th>\n",
       "      <th>TimeSt</th>\n",
       "      <th>Country</th>\n",
       "      <th>Province</th>\n",
       "      <th>City</th>\n",
       "      <th>Latitude</th>\n",
       "      <th>Longitude</th>\n",
       "      <th>POIID</th>\n",
       "    </tr>\n",
       "  </thead>\n",
       "  <tbody>\n",
       "    <tr>\n",
       "      <th>0</th>\n",
       "      <td>4516516</td>\n",
       "      <td>2017-06-21 00:00:00.143</td>\n",
       "      <td>CA</td>\n",
       "      <td>ON</td>\n",
       "      <td>Waterloo</td>\n",
       "      <td>43.49347</td>\n",
       "      <td>-80.49123</td>\n",
       "      <td>PO3</td>\n",
       "    </tr>\n",
       "    <tr>\n",
       "      <th>1</th>\n",
       "      <td>4516547</td>\n",
       "      <td>2017-06-21 18:00:00.193</td>\n",
       "      <td>CA</td>\n",
       "      <td>ON</td>\n",
       "      <td>London</td>\n",
       "      <td>42.93990</td>\n",
       "      <td>-81.27090</td>\n",
       "      <td>PO3</td>\n",
       "    </tr>\n",
       "    <tr>\n",
       "      <th>2</th>\n",
       "      <td>4516550</td>\n",
       "      <td>2017-06-21 15:00:00.287</td>\n",
       "      <td>CA</td>\n",
       "      <td>ON</td>\n",
       "      <td>Guelph</td>\n",
       "      <td>43.57760</td>\n",
       "      <td>-80.22010</td>\n",
       "      <td>PO3</td>\n",
       "    </tr>\n",
       "    <tr>\n",
       "      <th>3</th>\n",
       "      <td>4516600</td>\n",
       "      <td>2017-06-21 15:00:00.307</td>\n",
       "      <td>CA</td>\n",
       "      <td>ON</td>\n",
       "      <td>Stratford</td>\n",
       "      <td>43.37160</td>\n",
       "      <td>-80.97730</td>\n",
       "      <td>PO3</td>\n",
       "    </tr>\n",
       "    <tr>\n",
       "      <th>4</th>\n",
       "      <td>4516613</td>\n",
       "      <td>2017-06-21 15:00:00.497</td>\n",
       "      <td>CA</td>\n",
       "      <td>ON</td>\n",
       "      <td>Stratford</td>\n",
       "      <td>43.37160</td>\n",
       "      <td>-80.97730</td>\n",
       "      <td>PO3</td>\n",
       "    </tr>\n",
       "  </tbody>\n",
       "</table>\n",
       "</div>"
      ],
      "text/plain": [
       "       _ID                   TimeSt Country Province       City  Latitude  \\\n",
       "0  4516516  2017-06-21 00:00:00.143      CA       ON   Waterloo  43.49347   \n",
       "1  4516547  2017-06-21 18:00:00.193      CA       ON     London  42.93990   \n",
       "2  4516550  2017-06-21 15:00:00.287      CA       ON     Guelph  43.57760   \n",
       "3  4516600  2017-06-21 15:00:00.307      CA       ON  Stratford  43.37160   \n",
       "4  4516613  2017-06-21 15:00:00.497      CA       ON  Stratford  43.37160   \n",
       "\n",
       "   Longitude POIID  \n",
       "0  -80.49123   PO3  \n",
       "1  -81.27090   PO3  \n",
       "2  -80.22010   PO3  \n",
       "3  -80.97730   PO3  \n",
       "4  -80.97730   PO3  "
      ]
     },
     "execution_count": 20,
     "metadata": {},
     "output_type": "execute_result"
    }
   ],
   "source": [
    " #Generate the original array with an extra column for POIID\n",
    "lab=df5.idxmin(axis=1)\n",
    "df1[\"POIID\"] = lab\n",
    "df1.head()"
   ]
  },
  {
   "cell_type": "code",
   "execution_count": 21,
   "metadata": {},
   "outputs": [
    {
     "data": {
      "text/plain": [
       "<matplotlib.text.Text at 0x7f78df119650>"
      ]
     },
     "execution_count": 21,
     "metadata": {},
     "output_type": "execute_result"
    },
    {
     "data": {
      "image/png": "[encoded data removed]",
      "text/plain": [
       "<matplotlib.figure.Figure at 0x7f78df4ea2d0>"
      ]
     },
     "metadata": {},
     "output_type": "display_data"
    }
   ],
   "source": [
    "#plot of the distance variation (POI and PO2 are same loc hence equal distance)\n",
    "\n",
    "P1=len(df1.loc[df1['POIID'] == 'PO1'])\n",
    "P2=len(df1.loc[df1['POIID'] == 'PO2'])\n",
    "P3=len(df1.loc[df1['POIID'] == 'PO3'])\n",
    "P4=len(df1.loc[df1['POIID'] == 'PO4'])\n",
    "\n",
    "objects = ('PO1', 'PO2', 'PO3', 'PO4')\n",
    "y_pos = np.arange(len(objects))\n",
    "performance = [P1,P2,P3,P4]\n",
    " \n",
    "plt.bar(y_pos, performance, align='center', alpha=0.5, color='r')\n",
    "plt.xticks(y_pos, objects)\n",
    "plt.ylabel('Number of Requests')\n",
    "plt.title('Number of Requests to Each POIID')"
   ]
  },
  {
   "cell_type": "code",
   "execution_count": 22,
   "metadata": {
    "scrolled": false
   },
   "outputs": [],
   "source": [
    " #Calculate average and standard deviation of each location to its POI station"
   ]
  },
  {
   "cell_type": "code",
   "execution_count": 23,
   "metadata": {},
   "outputs": [],
   "source": [
    "l1=[]\n",
    "l2=[]\n",
    "l3=[]\n",
    "l4=[]\n",
    "dist1 = df5.min(axis=1)\n",
    "for i in range(22025):\n",
    "    if lab[i] == 'PO1':\n",
    "        l1.append(dist1[i])\n",
    "    elif lab[i] == 'PO2':\n",
    "        l2.append(dist1[i])\n",
    "    elif lab[i] == 'PO3':\n",
    "        l3.append(dist1[i])\n",
    "    else:\n",
    "        l4.append(dist1[i])"
   ]
  },
  {
   "cell_type": "code",
   "execution_count": 24,
   "metadata": {},
   "outputs": [
    {
     "name": "stderr",
     "output_type": "stream",
     "text": [
      "/home/jobin/anaconda2/lib/python2.7/site-packages/numpy/core/fromnumeric.py:2957: RuntimeWarning: Mean of empty slice.\n",
      "  out=out, **kwargs)\n",
      "/home/jobin/anaconda2/lib/python2.7/site-packages/numpy/core/_methods.py:80: RuntimeWarning: invalid value encountered in double_scalars\n",
      "  ret = ret.dtype.type(ret / rcount)\n",
      "/home/jobin/anaconda2/lib/python2.7/site-packages/numpy/core/_methods.py:135: RuntimeWarning: Degrees of freedom <= 0 for slice\n",
      "  keepdims=keepdims)\n",
      "/home/jobin/anaconda2/lib/python2.7/site-packages/numpy/core/_methods.py:105: RuntimeWarning: invalid value encountered in true_divide\n",
      "  arrmean, rcount, out=arrmean, casting='unsafe', subok=False)\n",
      "/home/jobin/anaconda2/lib/python2.7/site-packages/numpy/core/_methods.py:127: RuntimeWarning: invalid value encountered in double_scalars\n",
      "  ret = ret.dtype.type(ret / rcount)\n"
     ]
    },
    {
     "data": {
      "text/plain": [
       "<matplotlib.text.Text at 0x7f78deedb950>"
      ]
     },
     "execution_count": 24,
     "metadata": {},
     "output_type": "execute_result"
    },
    {
     "data": {
      "image/png": "[encoded data removed]",
      "text/plain": [
       "<matplotlib.figure.Figure at 0x7f78df025f50>"
      ]
     },
     "metadata": {},
     "output_type": "display_data"
    },
    {
     "data": {
      "image/png": "[encoded data removed]",
      "text/plain": [
       "<matplotlib.figure.Figure at 0x7f78deee7690>"
      ]
     },
     "metadata": {},
     "output_type": "display_data"
    }
   ],
   "source": [
    "mP1=np.mean(np.array(l1))\n",
    "mP2=np.mean(np.array(l2))\n",
    "mP3=np.mean(np.array(l3))\n",
    "mP4=np.mean(np.array(l4))\n",
    "\n",
    "sP1=np.std(np.array(l1))\n",
    "sP2=np.std(np.array(l2))\n",
    "sP3=np.std(np.array(l3))\n",
    "sP4=np.std(np.array(l4))\n",
    "\n",
    "objects = ('PO1', 'PO2', 'PO3', 'PO4')\n",
    "y_pos = np.arange(len(objects))\n",
    "performance = [mP1,mP2,mP3,mP4]\n",
    " \n",
    "plt.bar(y_pos, performance, align='center', alpha=0.5, color='g')\n",
    "plt.xticks(y_pos, objects)\n",
    "plt.ylabel('Mean Distance(KM)')\n",
    "plt.title('Mean Distance of Request to POIID')\n",
    "\n",
    "plt.figure()\n",
    "objects = ('PO1', 'PO2', 'PO3', 'PO4')\n",
    "y_pos = np.arange(len(objects))\n",
    "performance = [sP1,sP2,sP3,sP4]\n",
    " \n",
    "plt.bar(y_pos, performance, align='center', alpha=0.5, color='b')\n",
    "plt.xticks(y_pos, objects)\n",
    "plt.ylabel('STD(KM)')\n",
    "plt.title('Standard Deviation of Distance of Request to POIID')"
   ]
  },
  {
   "cell_type": "code",
   "execution_count": 47,
   "metadata": {},
   "outputs": [
    {
     "data": {
      "text/plain": [
       "<matplotlib.text.Text at 0x7f78de3adcd0>"
      ]
     },
     "execution_count": 47,
     "metadata": {},
     "output_type": "execute_result"
    },
    {
     "data": {
      "image/png": "[encoded data removed]",
      "text/plain": [
       "<matplotlib.figure.Figure at 0x7f78de5a4810>"
      ]
     },
     "metadata": {},
     "output_type": "display_data"
    }
   ],
   "source": [
    "#Density of different Groups\n",
    "x = [P1,P2,P3,P4]\n",
    "ax = sns.distplot(x)\n",
    "plt.legend(prop={'size': 16}, title = 'Airline')\n",
    "plt.title('Density Plot with Multiple Groups')\n",
    "plt.xlabel('Numbers (count)')\n",
    "plt.ylabel('Density')"
   ]
  },
  {
   "cell_type": "code",
   "execution_count": null,
   "metadata": {},
   "outputs": [],
   "source": []
  },
  {
   "cell_type": "code",
   "execution_count": null,
   "metadata": {},
   "outputs": [],
   "source": []
  }
 ],
 "metadata": {
  "kernelspec": {
   "display_name": "Python 2",
   "language": "python",
   "name": "python2"
  },
  "language_info": {
   "codemirror_mode": {
    "name": "ipython",
    "version": 2
   },
   "file_extension": ".py",
   "mimetype": "text/x-python",
   "name": "python",
   "nbconvert_exporter": "python",
   "pygments_lexer": "ipython2",
   "version": "2.7.14"
  }
 },
 "nbformat": 4,
 "nbformat_minor": 2
}
